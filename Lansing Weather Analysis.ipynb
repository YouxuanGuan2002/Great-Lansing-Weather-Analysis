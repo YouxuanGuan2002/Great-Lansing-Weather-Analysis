{
 "cells": [
  {
   "cell_type": "markdown",
   "id": "670247bd",
   "metadata": {},
   "source": [
    "# Lansing Weather Analysis\n",
    "\n",
    "## Data Source\n",
    "\n",
    "<ul>\n",
    "    <li> https://www.visualcrossing.com/weather/weather-data-services#  need money\n",
    "    <li> https://w1.weather.gov/data/obhistory/KTEW.html Government Data,Free, but not intuitive.\n"
   ]
  },
  {
   "cell_type": "markdown",
   "id": "240144b8",
   "metadata": {},
   "source": [
    "## Data Preprocessing"
   ]
  },
  {
   "cell_type": "code",
   "execution_count": 1,
   "id": "ab85bfd0",
   "metadata": {},
   "outputs": [],
   "source": [
    "import pandas\n",
    "import seaborn as sns"
   ]
  },
  {
   "cell_type": "code",
   "execution_count": 2,
   "id": "6da6d3b6",
   "metadata": {},
   "outputs": [],
   "source": [
    "main_df = pandas.read_csv(\"./data/lansing 2012-01-01 to 2022-12-31.csv\")"
   ]
  },
  {
   "cell_type": "code",
   "execution_count": 3,
   "id": "3d7a9a43",
   "metadata": {},
   "outputs": [
    {
     "data": {
      "text/html": [
       "<div>\n",
       "<style scoped>\n",
       "    .dataframe tbody tr th:only-of-type {\n",
       "        vertical-align: middle;\n",
       "    }\n",
       "\n",
       "    .dataframe tbody tr th {\n",
       "        vertical-align: top;\n",
       "    }\n",
       "\n",
       "    .dataframe thead th {\n",
       "        text-align: right;\n",
       "    }\n",
       "</style>\n",
       "<table border=\"1\" class=\"dataframe\">\n",
       "  <thead>\n",
       "    <tr style=\"text-align: right;\">\n",
       "      <th></th>\n",
       "      <th>name</th>\n",
       "      <th>datetime</th>\n",
       "      <th>tempmax</th>\n",
       "      <th>tempmin</th>\n",
       "      <th>temp</th>\n",
       "      <th>feelslikemax</th>\n",
       "      <th>feelslikemin</th>\n",
       "      <th>feelslike</th>\n",
       "      <th>dew</th>\n",
       "      <th>humidity</th>\n",
       "      <th>...</th>\n",
       "      <th>solarenergy</th>\n",
       "      <th>uvindex</th>\n",
       "      <th>severerisk</th>\n",
       "      <th>sunrise</th>\n",
       "      <th>sunset</th>\n",
       "      <th>moonphase</th>\n",
       "      <th>conditions</th>\n",
       "      <th>description</th>\n",
       "      <th>icon</th>\n",
       "      <th>stations</th>\n",
       "    </tr>\n",
       "  </thead>\n",
       "  <tbody>\n",
       "    <tr>\n",
       "      <th>0</th>\n",
       "      <td>lansing</td>\n",
       "      <td>2012-01-01</td>\n",
       "      <td>6.8</td>\n",
       "      <td>-1.1</td>\n",
       "      <td>2.4</td>\n",
       "      <td>2.2</td>\n",
       "      <td>-8.2</td>\n",
       "      <td>-3.1</td>\n",
       "      <td>0.0</td>\n",
       "      <td>84.3</td>\n",
       "      <td>...</td>\n",
       "      <td>4.4</td>\n",
       "      <td>2</td>\n",
       "      <td>NaN</td>\n",
       "      <td>2012-01-01T08:08:45</td>\n",
       "      <td>2012-01-01T17:14:40</td>\n",
       "      <td>0.26</td>\n",
       "      <td>Overcast</td>\n",
       "      <td>Cloudy skies throughout the day.</td>\n",
       "      <td>cloudy</td>\n",
       "      <td>72539014836,72028404877,KY70,KFPK,KLAN,7253780...</td>\n",
       "    </tr>\n",
       "    <tr>\n",
       "      <th>1</th>\n",
       "      <td>lansing</td>\n",
       "      <td>2012-01-02</td>\n",
       "      <td>-1.8</td>\n",
       "      <td>-7.1</td>\n",
       "      <td>-4.0</td>\n",
       "      <td>-8.3</td>\n",
       "      <td>-14.8</td>\n",
       "      <td>-11.1</td>\n",
       "      <td>-8.4</td>\n",
       "      <td>72.1</td>\n",
       "      <td>...</td>\n",
       "      <td>2.3</td>\n",
       "      <td>1</td>\n",
       "      <td>NaN</td>\n",
       "      <td>2012-01-02T08:08:49</td>\n",
       "      <td>2012-01-02T17:15:33</td>\n",
       "      <td>0.31</td>\n",
       "      <td>Snow, Overcast</td>\n",
       "      <td>Cloudy skies throughout the day with morning s...</td>\n",
       "      <td>snow</td>\n",
       "      <td>72539014836,72028404877,KY70,KFPK,KLAN,7253780...</td>\n",
       "    </tr>\n",
       "    <tr>\n",
       "      <th>2</th>\n",
       "      <td>lansing</td>\n",
       "      <td>2012-01-03</td>\n",
       "      <td>-5.0</td>\n",
       "      <td>-9.2</td>\n",
       "      <td>-7.0</td>\n",
       "      <td>-9.5</td>\n",
       "      <td>-16.7</td>\n",
       "      <td>-13.4</td>\n",
       "      <td>-12.6</td>\n",
       "      <td>64.6</td>\n",
       "      <td>...</td>\n",
       "      <td>6.2</td>\n",
       "      <td>3</td>\n",
       "      <td>NaN</td>\n",
       "      <td>2012-01-03T08:08:52</td>\n",
       "      <td>2012-01-03T17:16:27</td>\n",
       "      <td>0.35</td>\n",
       "      <td>Partially cloudy</td>\n",
       "      <td>Partly cloudy throughout the day.</td>\n",
       "      <td>partly-cloudy-day</td>\n",
       "      <td>72539014836,72028404877,KY70,KFPK,KLAN,7253780...</td>\n",
       "    </tr>\n",
       "    <tr>\n",
       "      <th>3</th>\n",
       "      <td>lansing</td>\n",
       "      <td>2012-01-04</td>\n",
       "      <td>2.0</td>\n",
       "      <td>-6.9</td>\n",
       "      <td>-2.6</td>\n",
       "      <td>-2.7</td>\n",
       "      <td>-13.9</td>\n",
       "      <td>-8.1</td>\n",
       "      <td>-7.7</td>\n",
       "      <td>68.3</td>\n",
       "      <td>...</td>\n",
       "      <td>7.2</td>\n",
       "      <td>4</td>\n",
       "      <td>NaN</td>\n",
       "      <td>2012-01-04T08:08:51</td>\n",
       "      <td>2012-01-04T17:17:23</td>\n",
       "      <td>0.39</td>\n",
       "      <td>Partially cloudy</td>\n",
       "      <td>Partly cloudy throughout the day.</td>\n",
       "      <td>partly-cloudy-day</td>\n",
       "      <td>72539014836,KY70,72028404877,KFPK,KLAN,7253780...</td>\n",
       "    </tr>\n",
       "    <tr>\n",
       "      <th>4</th>\n",
       "      <td>lansing</td>\n",
       "      <td>2012-01-05</td>\n",
       "      <td>5.8</td>\n",
       "      <td>-4.2</td>\n",
       "      <td>0.5</td>\n",
       "      <td>3.0</td>\n",
       "      <td>-7.4</td>\n",
       "      <td>-2.4</td>\n",
       "      <td>-3.3</td>\n",
       "      <td>77.1</td>\n",
       "      <td>...</td>\n",
       "      <td>6.3</td>\n",
       "      <td>3</td>\n",
       "      <td>NaN</td>\n",
       "      <td>2012-01-05T08:08:49</td>\n",
       "      <td>2012-01-05T17:18:20</td>\n",
       "      <td>0.43</td>\n",
       "      <td>Partially cloudy</td>\n",
       "      <td>Partly cloudy throughout the day.</td>\n",
       "      <td>partly-cloudy-day</td>\n",
       "      <td>72539014836,72028404877,KY70,KFPK,KLAN,7253780...</td>\n",
       "    </tr>\n",
       "  </tbody>\n",
       "</table>\n",
       "<p>5 rows × 33 columns</p>\n",
       "</div>"
      ],
      "text/plain": [
       "      name    datetime  tempmax  tempmin  temp  feelslikemax  feelslikemin  \\\n",
       "0  lansing  2012-01-01      6.8     -1.1   2.4           2.2          -8.2   \n",
       "1  lansing  2012-01-02     -1.8     -7.1  -4.0          -8.3         -14.8   \n",
       "2  lansing  2012-01-03     -5.0     -9.2  -7.0          -9.5         -16.7   \n",
       "3  lansing  2012-01-04      2.0     -6.9  -2.6          -2.7         -13.9   \n",
       "4  lansing  2012-01-05      5.8     -4.2   0.5           3.0          -7.4   \n",
       "\n",
       "   feelslike   dew  humidity  ...  solarenergy  uvindex  severerisk  \\\n",
       "0       -3.1   0.0      84.3  ...          4.4        2         NaN   \n",
       "1      -11.1  -8.4      72.1  ...          2.3        1         NaN   \n",
       "2      -13.4 -12.6      64.6  ...          6.2        3         NaN   \n",
       "3       -8.1  -7.7      68.3  ...          7.2        4         NaN   \n",
       "4       -2.4  -3.3      77.1  ...          6.3        3         NaN   \n",
       "\n",
       "               sunrise               sunset  moonphase        conditions  \\\n",
       "0  2012-01-01T08:08:45  2012-01-01T17:14:40       0.26          Overcast   \n",
       "1  2012-01-02T08:08:49  2012-01-02T17:15:33       0.31    Snow, Overcast   \n",
       "2  2012-01-03T08:08:52  2012-01-03T17:16:27       0.35  Partially cloudy   \n",
       "3  2012-01-04T08:08:51  2012-01-04T17:17:23       0.39  Partially cloudy   \n",
       "4  2012-01-05T08:08:49  2012-01-05T17:18:20       0.43  Partially cloudy   \n",
       "\n",
       "                                         description               icon  \\\n",
       "0                   Cloudy skies throughout the day.             cloudy   \n",
       "1  Cloudy skies throughout the day with morning s...               snow   \n",
       "2                  Partly cloudy throughout the day.  partly-cloudy-day   \n",
       "3                  Partly cloudy throughout the day.  partly-cloudy-day   \n",
       "4                  Partly cloudy throughout the day.  partly-cloudy-day   \n",
       "\n",
       "                                            stations  \n",
       "0  72539014836,72028404877,KY70,KFPK,KLAN,7253780...  \n",
       "1  72539014836,72028404877,KY70,KFPK,KLAN,7253780...  \n",
       "2  72539014836,72028404877,KY70,KFPK,KLAN,7253780...  \n",
       "3  72539014836,KY70,72028404877,KFPK,KLAN,7253780...  \n",
       "4  72539014836,72028404877,KY70,KFPK,KLAN,7253780...  \n",
       "\n",
       "[5 rows x 33 columns]"
      ]
     },
     "execution_count": 3,
     "metadata": {},
     "output_type": "execute_result"
    }
   ],
   "source": [
    "main_df.head(5)"
   ]
  },
  {
   "cell_type": "code",
   "execution_count": 4,
   "id": "5aae55de",
   "metadata": {},
   "outputs": [],
   "source": [
    "main_df = main_df.iloc[:,[1,2,3,4,5,6,7,10,11,12,13,14,15,29]]"
   ]
  },
  {
   "cell_type": "code",
   "execution_count": 5,
   "id": "2df10b61",
   "metadata": {
    "scrolled": true
   },
   "outputs": [
    {
     "data": {
      "text/html": [
       "<div>\n",
       "<style scoped>\n",
       "    .dataframe tbody tr th:only-of-type {\n",
       "        vertical-align: middle;\n",
       "    }\n",
       "\n",
       "    .dataframe tbody tr th {\n",
       "        vertical-align: top;\n",
       "    }\n",
       "\n",
       "    .dataframe thead th {\n",
       "        text-align: right;\n",
       "    }\n",
       "</style>\n",
       "<table border=\"1\" class=\"dataframe\">\n",
       "  <thead>\n",
       "    <tr style=\"text-align: right;\">\n",
       "      <th></th>\n",
       "      <th>datetime</th>\n",
       "      <th>tempmax</th>\n",
       "      <th>tempmin</th>\n",
       "      <th>temp</th>\n",
       "      <th>feelslikemax</th>\n",
       "      <th>feelslikemin</th>\n",
       "      <th>feelslike</th>\n",
       "      <th>precip</th>\n",
       "      <th>precipprob</th>\n",
       "      <th>precipcover</th>\n",
       "      <th>preciptype</th>\n",
       "      <th>snow</th>\n",
       "      <th>snowdepth</th>\n",
       "      <th>conditions</th>\n",
       "    </tr>\n",
       "  </thead>\n",
       "  <tbody>\n",
       "    <tr>\n",
       "      <th>0</th>\n",
       "      <td>2012-01-01</td>\n",
       "      <td>6.8</td>\n",
       "      <td>-1.1</td>\n",
       "      <td>2.4</td>\n",
       "      <td>2.2</td>\n",
       "      <td>-8.2</td>\n",
       "      <td>-3.1</td>\n",
       "      <td>0.000</td>\n",
       "      <td>0</td>\n",
       "      <td>0.00</td>\n",
       "      <td>NaN</td>\n",
       "      <td>NaN</td>\n",
       "      <td>NaN</td>\n",
       "      <td>Overcast</td>\n",
       "    </tr>\n",
       "    <tr>\n",
       "      <th>1</th>\n",
       "      <td>2012-01-02</td>\n",
       "      <td>-1.8</td>\n",
       "      <td>-7.1</td>\n",
       "      <td>-4.0</td>\n",
       "      <td>-8.3</td>\n",
       "      <td>-14.8</td>\n",
       "      <td>-11.1</td>\n",
       "      <td>0.568</td>\n",
       "      <td>100</td>\n",
       "      <td>8.33</td>\n",
       "      <td>snow</td>\n",
       "      <td>NaN</td>\n",
       "      <td>NaN</td>\n",
       "      <td>Snow, Overcast</td>\n",
       "    </tr>\n",
       "    <tr>\n",
       "      <th>2</th>\n",
       "      <td>2012-01-03</td>\n",
       "      <td>-5.0</td>\n",
       "      <td>-9.2</td>\n",
       "      <td>-7.0</td>\n",
       "      <td>-9.5</td>\n",
       "      <td>-16.7</td>\n",
       "      <td>-13.4</td>\n",
       "      <td>0.000</td>\n",
       "      <td>0</td>\n",
       "      <td>0.00</td>\n",
       "      <td>NaN</td>\n",
       "      <td>NaN</td>\n",
       "      <td>NaN</td>\n",
       "      <td>Partially cloudy</td>\n",
       "    </tr>\n",
       "    <tr>\n",
       "      <th>3</th>\n",
       "      <td>2012-01-04</td>\n",
       "      <td>2.0</td>\n",
       "      <td>-6.9</td>\n",
       "      <td>-2.6</td>\n",
       "      <td>-2.7</td>\n",
       "      <td>-13.9</td>\n",
       "      <td>-8.1</td>\n",
       "      <td>0.000</td>\n",
       "      <td>0</td>\n",
       "      <td>0.00</td>\n",
       "      <td>NaN</td>\n",
       "      <td>NaN</td>\n",
       "      <td>NaN</td>\n",
       "      <td>Partially cloudy</td>\n",
       "    </tr>\n",
       "    <tr>\n",
       "      <th>4</th>\n",
       "      <td>2012-01-05</td>\n",
       "      <td>5.8</td>\n",
       "      <td>-4.2</td>\n",
       "      <td>0.5</td>\n",
       "      <td>3.0</td>\n",
       "      <td>-7.4</td>\n",
       "      <td>-2.4</td>\n",
       "      <td>0.000</td>\n",
       "      <td>0</td>\n",
       "      <td>0.00</td>\n",
       "      <td>NaN</td>\n",
       "      <td>NaN</td>\n",
       "      <td>NaN</td>\n",
       "      <td>Partially cloudy</td>\n",
       "    </tr>\n",
       "  </tbody>\n",
       "</table>\n",
       "</div>"
      ],
      "text/plain": [
       "     datetime  tempmax  tempmin  temp  feelslikemax  feelslikemin  feelslike  \\\n",
       "0  2012-01-01      6.8     -1.1   2.4           2.2          -8.2       -3.1   \n",
       "1  2012-01-02     -1.8     -7.1  -4.0          -8.3         -14.8      -11.1   \n",
       "2  2012-01-03     -5.0     -9.2  -7.0          -9.5         -16.7      -13.4   \n",
       "3  2012-01-04      2.0     -6.9  -2.6          -2.7         -13.9       -8.1   \n",
       "4  2012-01-05      5.8     -4.2   0.5           3.0          -7.4       -2.4   \n",
       "\n",
       "   precip  precipprob  precipcover preciptype  snow  snowdepth  \\\n",
       "0   0.000           0         0.00        NaN   NaN        NaN   \n",
       "1   0.568         100         8.33       snow   NaN        NaN   \n",
       "2   0.000           0         0.00        NaN   NaN        NaN   \n",
       "3   0.000           0         0.00        NaN   NaN        NaN   \n",
       "4   0.000           0         0.00        NaN   NaN        NaN   \n",
       "\n",
       "         conditions  \n",
       "0          Overcast  \n",
       "1    Snow, Overcast  \n",
       "2  Partially cloudy  \n",
       "3  Partially cloudy  \n",
       "4  Partially cloudy  "
      ]
     },
     "execution_count": 5,
     "metadata": {},
     "output_type": "execute_result"
    }
   ],
   "source": [
    "main_df.head(5)"
   ]
  },
  {
   "cell_type": "markdown",
   "id": "3e724b5e",
   "metadata": {},
   "source": [
    "## Naive Data Visualization\n",
    "By comparing tempmax and feelslikemax in dataset, we are able to notice that two values aligns relatively closer comparing to ones \n",
    "they are in extreme temperature, >27C or <10C."
   ]
  },
  {
   "cell_type": "code",
   "execution_count": 6,
   "id": "430d54ac",
   "metadata": {},
   "outputs": [
    {
     "data": {
      "text/plain": [
       "<AxesSubplot:xlabel='feelslikemax', ylabel='tempmax'>"
      ]
     },
     "execution_count": 6,
     "metadata": {},
     "output_type": "execute_result"
    },
    {
     "data": {
      "image/png": "[encoded data removed]",
      "text/plain": [
       "<Figure size 432x288 with 1 Axes>"
      ]
     },
     "metadata": {
      "needs_background": "light"
     },
     "output_type": "display_data"
    }
   ],
   "source": [
    "main_df.plot.scatter(\"feelslikemax\", \"tempmax\")"
   ]
  },
  {
   "cell_type": "markdown",
   "id": "dc57c993",
   "metadata": {},
   "source": [
    "## Heatmap of variables\n",
    "\n",
    "To observe the correlation between variables, a correlation matrix is necessary by using pandas in-built function.Since the magnitude of any two combination of variables are removed, it is more intuitive to compare using correlation matrix instead of covariance matrix.\n",
    "\n",
    "## Insights from Heatmap\n",
    "According to the Heatmap, we observsed that the heatmap can be dived into three components.The first component is about variable that is related to temperature from the dataset. It is easy to notice that the correlation between any two variables in this component is around 1, which leads to the conclusion that they are mutually highly correlated.We believe that although the apparent temperature (feelslikemax, feelslikemin) is not as accurate as the objective temperature, it still can reflect that the real temperature to a certain extend. For second components, they are all about precipitation.From the heatmap, we observed that the precipitation probability and the fraction of coverage of precipitation is 0.65, which is positive strong correlation. And we also observed that the amount of precipitation also have the similar relation with the precipitation probability.For last component, we observed that all the variables that are related to snow have negative strong correlation with the tempurature related variables. This is obviousl to explain that the higher tempurature leads to lower probobility of snow and snowdepth.\n"
   ]
  },
  {
   "cell_type": "code",
   "execution_count": 7,
   "id": "992b76d0",
   "metadata": {},
   "outputs": [
    {
     "data": {
      "text/plain": [
       "<AxesSubplot:>"
      ]
     },
     "execution_count": 7,
     "metadata": {},
     "output_type": "execute_result"
    },
    {
     "data": {
      "image/png": "[encoded data removed]",
      "text/plain": [
       "<Figure size 576x432 with 2 Axes>"
      ]
     },
     "metadata": {},
     "output_type": "display_data"
    }
   ],
   "source": [
    "corrX_main_df = main_df.corr()\n",
    "sns.set(rc={\"figure.figsize\":(8, 6)})\n",
    "sns.heatmap(corrX_main_df, annot = True)"
   ]
  },
  {
   "cell_type": "markdown",
   "id": "a49994ea",
   "metadata": {},
   "source": [
    "## Monthly/Seasonal Weather Analysis\n",
    "\n",
    "First we split the datetime attribute into 3 columns, they are year(int), month(int), and day(int). By splitting into 3 columns, we are able to categorize data into specific time frame. Also, with groupby operator, we are able to retrieve statistical values such as sum and average according to year or month across the 10 year time period dataset."
   ]
  },
  {
   "cell_type": "code",
   "execution_count": 8,
   "id": "f2c5ee80",
   "metadata": {},
   "outputs": [],
   "source": [
    "# Split datetime into year, month, and day. Note that datetime column is in ISO-8601 format.\n",
    "main_df[[\"year\", \"month\", \"day\"]] = main_df[\"datetime\"].str.split(\"-\", expand=True)\n",
    "main_df[\"year\"] = main_df[\"year\"].astype(\"int\")\n",
    "main_df[\"month\"] = main_df[\"month\"].astype(\"int\")\n",
    "main_df[\"day\"] = main_df[\"day\"].astype(\"int\")"
   ]
  },
  {
   "cell_type": "code",
   "execution_count": 32,
   "id": "3a1b8a8d",
   "metadata": {},
   "outputs": [],
   "source": [
    "analysis_df = pandas.DataFrame()\n",
    "analysis_df[\"avgTemp\"] = main_df.groupby(by=[\"month\"])[[\"temp\"]].mean()\n",
    "analysis_df[\"avgPrecip\"] = main_df.groupby(by=[\"month\"])[[\"precip\"]].sum()/10"
   ]
  },
  {
   "cell_type": "code",
   "execution_count": 33,
   "id": "3468dfff",
   "metadata": {},
   "outputs": [
    {
     "data": {
      "text/html": [
       "<div>\n",
       "<style scoped>\n",
       "    .dataframe tbody tr th:only-of-type {\n",
       "        vertical-align: middle;\n",
       "    }\n",
       "\n",
       "    .dataframe tbody tr th {\n",
       "        vertical-align: top;\n",
       "    }\n",
       "\n",
       "    .dataframe thead th {\n",
       "        text-align: right;\n",
       "    }\n",
       "</style>\n",
       "<table border=\"1\" class=\"dataframe\">\n",
       "  <thead>\n",
       "    <tr style=\"text-align: right;\">\n",
       "      <th></th>\n",
       "      <th>avgTemp</th>\n",
       "      <th>avgPrecip</th>\n",
       "    </tr>\n",
       "    <tr>\n",
       "      <th>month</th>\n",
       "      <th></th>\n",
       "      <th></th>\n",
       "    </tr>\n",
       "  </thead>\n",
       "  <tbody>\n",
       "    <tr>\n",
       "      <th>1</th>\n",
       "      <td>-4.019648</td>\n",
       "      <td>61.1803</td>\n",
       "    </tr>\n",
       "    <tr>\n",
       "      <th>2</th>\n",
       "      <td>-3.641801</td>\n",
       "      <td>61.8063</td>\n",
       "    </tr>\n",
       "    <tr>\n",
       "      <th>3</th>\n",
       "      <td>2.323754</td>\n",
       "      <td>63.0576</td>\n",
       "    </tr>\n",
       "    <tr>\n",
       "      <th>4</th>\n",
       "      <td>7.936667</td>\n",
       "      <td>85.3885</td>\n",
       "    </tr>\n",
       "    <tr>\n",
       "      <th>5</th>\n",
       "      <td>15.687683</td>\n",
       "      <td>98.4143</td>\n",
       "    </tr>\n",
       "    <tr>\n",
       "      <th>6</th>\n",
       "      <td>20.730303</td>\n",
       "      <td>125.9461</td>\n",
       "    </tr>\n",
       "    <tr>\n",
       "      <th>7</th>\n",
       "      <td>22.803226</td>\n",
       "      <td>68.1270</td>\n",
       "    </tr>\n",
       "    <tr>\n",
       "      <th>8</th>\n",
       "      <td>21.544868</td>\n",
       "      <td>120.4763</td>\n",
       "    </tr>\n",
       "    <tr>\n",
       "      <th>9</th>\n",
       "      <td>17.691818</td>\n",
       "      <td>76.3918</td>\n",
       "    </tr>\n",
       "    <tr>\n",
       "      <th>10</th>\n",
       "      <td>11.078886</td>\n",
       "      <td>121.1485</td>\n",
       "    </tr>\n",
       "    <tr>\n",
       "      <th>11</th>\n",
       "      <td>3.991212</td>\n",
       "      <td>55.2709</td>\n",
       "    </tr>\n",
       "    <tr>\n",
       "      <th>12</th>\n",
       "      <td>-0.275367</td>\n",
       "      <td>62.3945</td>\n",
       "    </tr>\n",
       "  </tbody>\n",
       "</table>\n",
       "</div>"
      ],
      "text/plain": [
       "         avgTemp  avgPrecip\n",
       "month                      \n",
       "1      -4.019648    61.1803\n",
       "2      -3.641801    61.8063\n",
       "3       2.323754    63.0576\n",
       "4       7.936667    85.3885\n",
       "5      15.687683    98.4143\n",
       "6      20.730303   125.9461\n",
       "7      22.803226    68.1270\n",
       "8      21.544868   120.4763\n",
       "9      17.691818    76.3918\n",
       "10     11.078886   121.1485\n",
       "11      3.991212    55.2709\n",
       "12     -0.275367    62.3945"
      ]
     },
     "execution_count": 33,
     "metadata": {},
     "output_type": "execute_result"
    }
   ],
   "source": [
    "analysis_df"
   ]
  },
  {
   "cell_type": "markdown",
   "id": "4971611f",
   "metadata": {},
   "source": [
    "## Categorized Data for Infographic\n",
    "\n",
    "<ul>\n",
    "    <li> Max Temp\n",
    "    <li> Min Temp\n",
    "    <li> Max Precip\n",
    "    <li> Month Average Temp.\n",
    "    <li> Month Average Precipiation\n",
    "        "
   ]
  },
  {
   "cell_type": "code",
   "execution_count": 24,
   "id": "4d2d7479",
   "metadata": {},
   "outputs": [
    {
     "data": {
      "text/plain": [
       "39.1"
      ]
     },
     "execution_count": 24,
     "metadata": {},
     "output_type": "execute_result"
    }
   ],
   "source": [
    "# Find max temperature\n",
    "main_df[\"tempmax\"].max()"
   ]
  },
  {
   "cell_type": "code",
   "execution_count": 26,
   "id": "3fd559a4",
   "metadata": {},
   "outputs": [
    {
     "data": {
      "text/plain": [
       "-25.6"
      ]
     },
     "execution_count": 26,
     "metadata": {},
     "output_type": "execute_result"
    }
   ],
   "source": [
    "# Find min temperature\n",
    "main_df[\"tempmin\"].min()"
   ]
  },
  {
   "cell_type": "code",
   "execution_count": 29,
   "id": "e1746eb0",
   "metadata": {
    "scrolled": true
   },
   "outputs": [
    {
     "data": {
      "text/plain": [
       "90.529"
      ]
     },
     "execution_count": 29,
     "metadata": {},
     "output_type": "execute_result"
    }
   ],
   "source": [
    "# Find Max preciptation a day\n",
    "main_df[\"precip\"].max()"
   ]
  },
  {
   "cell_type": "code",
   "execution_count": 42,
   "id": "5765880e",
   "metadata": {},
   "outputs": [
    {
     "data": {
      "text/plain": [
       "194.6"
      ]
     },
     "execution_count": 42,
     "metadata": {},
     "output_type": "execute_result"
    }
   ],
   "source": [
    "# Find count of days that rain\n",
    "len(main_df[main_df[\"precip\"] > 0])/10"
   ]
  },
  {
   "cell_type": "code",
   "execution_count": 35,
   "id": "79279a6a",
   "metadata": {},
   "outputs": [],
   "source": [
    "analysis_df.to_excel(\".\\data\\monthly_data.xlsx\")"
   ]
  },
  {
   "cell_type": "markdown",
   "id": "afa15596",
   "metadata": {},
   "source": [
    "# Next Time:\n",
    "<ul>\n",
    "    <li> Thermometer for maxtemp/mintemp. maxtemp: red color, higher reader/ mintemp: blue color, lower reader.\n",
    "    <li> Alternative - Text in Icon: Sun image for maxtemp, snowflask for mintemp.\n",
    "    <li> Drip to represent max value of precipitation.\n",
    "    <li> (Optional)Indicate annual average days that rain. \n",
    "</ul>\n",
    "\n",
    "# Ideas:\n",
    "<ul>\n",
    "    <li> Infographics(信息图): https://www.vecteezy.com/vector-art/459313-weather-infographics-set\n",
    "    <li> Infographic（温度计）: <img src=\".\\img\\温度计范例.jpg\" style=\"height: 200px; width:100px\">\n",
    "    <li> Heatmap: https://zhuanlan.zhihu.com/p/96040773\n",
    "    <li> Pandas GroupBy 用法: https://pandas.pydata.org/docs/reference/api/pandas.DataFrame.groupby.html\n",
    "</ul>"
   ]
  },
  {
   "cell_type": "code",
   "execution_count": null,
   "id": "ebd31465",
   "metadata": {},
   "outputs": [],
   "source": []
  },
  {
   "cell_type": "code",
   "execution_count": null,
   "id": "2fb78248",
   "metadata": {},
   "outputs": [],
   "source": []
  }
 ],
 "metadata": {
  "kernelspec": {
   "display_name": "Python 3 (ipykernel)",
   "language": "python",
   "name": "python3"
  },
  "language_info": {
   "codemirror_mode": {
    "name": "ipython",
    "version": 3
   },
   "file_extension": ".py",
   "mimetype": "text/x-python",
   "name": "python",
   "nbconvert_exporter": "python",
   "pygments_lexer": "ipython3",
   "version": "3.9.12"
  }
 },
 "nbformat": 4,
 "nbformat_minor": 5
}
